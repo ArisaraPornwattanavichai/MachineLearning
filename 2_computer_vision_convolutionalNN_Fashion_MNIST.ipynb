{
  "nbformat": 4,
  "nbformat_minor": 0,
  "metadata": {
    "colab": {
      "name": "2_computer_vision_convolutionalNN_Fashion MNIST.ipynb",
      "provenance": [],
      "authorship_tag": "ABX9TyN3s5fDCTZ9YMP/IaegA+aL",
      "include_colab_link": true
    },
    "kernelspec": {
      "name": "python3",
      "display_name": "Python 3"
    },
    "language_info": {
      "name": "python"
    },
    "accelerator": "GPU"
  },
  "cells": [
    {
      "cell_type": "markdown",
      "metadata": {
        "id": "view-in-github",
        "colab_type": "text"
      },
      "source": [
        "<a href=\"https://colab.research.google.com/github/ArisaraPornwattanavichai/MachineLearning/blob/main/2_computer_vision_convolutionalNN_Fashion_MNIST.ipynb\" target=\"_parent\"><img src=\"https://colab.research.google.com/assets/colab-badge.svg\" alt=\"Open In Colab\"/></a>"
      ]
    },
    {
      "cell_type": "markdown",
      "source": [
        "# In this chapter, We'll learn how to build a Convolutional Neural network model. Our target goal is classifying on Fashion MNIST dataset (similar to the chapter1, but let see the conv. performance)."
      ],
      "metadata": {
        "id": "Sii7JRE_MZ7f"
      }
    },
    {
      "cell_type": "markdown",
      "source": [
        "- From the previous chapter, we utilize sequential NN to classify images. But those image are easy to classify, with Black-white color, small size, clear, especially each image show only one object.  If we would like to classify the images that composed of other things, multiple color and different size, the sequential NN may not enough for us. \n",
        "\n",
        "As can be seen, we might build the model that has ability to detect the only critical features out from the image with noise. Hence the **mathematical filter** is utilized, called convolution. The convolution + Neural Network = **Convolutional Neural Network (CNN)**."
      ],
      "metadata": {
        "id": "Se4EiDt2Mx43"
      }
    },
    {
      "cell_type": "markdown",
      "source": [
        "- CNN > mixture of 2 matrix, providing the new data [The propose of mixing is to filter the clear, small, easy, fast signal for processing(good quality signal) ]\n",
        "- Pooling > Pooling is the processing for reducing the image pixel, while  the content of image is kept. The popular technique is max pooling, but there also have min pooling and mean pooling as well."
      ],
      "metadata": {
        "id": "6ySLFNstQr4Q"
      }
    },
    {
      "cell_type": "markdown",
      "source": [
        "Before coding, the code in this chapter may look similar to the chapter1 in dataset preparation, but the defining model structure is different."
      ],
      "metadata": {
        "id": "x5xpcT2-UKKA"
      }
    },
    {
      "cell_type": "code",
      "execution_count": 1,
      "metadata": {
        "id": "w1-kCm9fMOsl"
      },
      "outputs": [],
      "source": [
        "import tensorflow as tf\n",
        "import matplotlib.pyplot as plt\n",
        "import numpy as np"
      ]
    },
    {
      "cell_type": "code",
      "source": [
        "data = tf.keras.datasets.fashion_mnist\n",
        "(training_images, training_labels), (test_images, test_labels) = data.load_data()\n",
        "\n",
        "training_images = training_images.reshape(60000,28,28,1)\n",
        "training_images = training_images/255.0\n",
        "\n",
        "test_images = test_images.reshape(10000,28,28,1)\n",
        "test_images = test_images/255.0"
      ],
      "metadata": {
        "colab": {
          "base_uri": "https://localhost:8080/"
        },
        "id": "B9z2IFidMZno",
        "outputId": "8772b2da-0e3a-47e2-c264-2336dc02c847"
      },
      "execution_count": 2,
      "outputs": [
        {
          "output_type": "stream",
          "name": "stdout",
          "text": [
            "Downloading data from https://storage.googleapis.com/tensorflow/tf-keras-datasets/train-labels-idx1-ubyte.gz\n",
            "32768/29515 [=================================] - 0s 0us/step\n",
            "40960/29515 [=========================================] - 0s 0us/step\n",
            "Downloading data from https://storage.googleapis.com/tensorflow/tf-keras-datasets/train-images-idx3-ubyte.gz\n",
            "26427392/26421880 [==============================] - 0s 0us/step\n",
            "26435584/26421880 [==============================] - 0s 0us/step\n",
            "Downloading data from https://storage.googleapis.com/tensorflow/tf-keras-datasets/t10k-labels-idx1-ubyte.gz\n",
            "16384/5148 [===============================================================================================] - 0s 0us/step\n",
            "Downloading data from https://storage.googleapis.com/tensorflow/tf-keras-datasets/t10k-images-idx3-ubyte.gz\n",
            "4423680/4422102 [==============================] - 0s 0us/step\n",
            "4431872/4422102 [==============================] - 0s 0us/step\n"
          ]
        }
      ]
    },
    {
      "cell_type": "markdown",
      "source": [
        "From the below structure, we determined the number of conv filter to 64, \n",
        "grid filter size is 3x3[recommend odd number], max pooling size(2,2) will reduce the input shape as divided by2 [26x26 > 13x13].\n",
        "\n",
        "The Flatten layer look similar like the chapter1, right?\n",
        "Because this model we just add more conv. in front of the flatten layer that apper in the chapter1.\n",
        "[Flattern is rows concatination (matrx to vector)]\n",
        "\n",
        "The input shape is (28,28,1) because Conv2D allow us to train the model with the image color\n",
        "if color channel =1, grayscale\n",
        "if color channel = 3, RGB color\n"
      ],
      "metadata": {
        "id": "0UNqG0ySgVmL"
      }
    },
    {
      "cell_type": "code",
      "source": [
        "model = tf.keras.models.Sequential([tf.keras.layers.Conv2D(64, (3,3), activation = 'relu', input_shape = (28, 28, 1)),\n",
        "                                    tf.keras.layers.MaxPooling2D(2,2),\n",
        "                                    tf.keras.layers.Conv2D(64,(3,3), activation = 'relu'),\n",
        "                                    tf.keras.layers.MaxPooling2D(2,2),\n",
        "                                    tf.keras.layers.Flatten(),\n",
        "                                    tf.keras.layers.Dense(128, activation = tf.nn.relu),\n",
        "                                    tf.keras.layers.Dense(10, activation = tf.nn.softmax)\n",
        "                                    ])\n",
        "model.compile(optimizer = 'adam', loss='sparse_categorical_crossentropy', metrics=['accuracy'])\n",
        "model.fit(training_images, training_labels, epochs = 50)"
      ],
      "metadata": {
        "colab": {
          "base_uri": "https://localhost:8080/"
        },
        "id": "kXvfPfvuMZp2",
        "outputId": "9b5cd6b5-3f06-44fb-b610-5cf03dfb819a"
      },
      "execution_count": 3,
      "outputs": [
        {
          "output_type": "stream",
          "name": "stdout",
          "text": [
            "Epoch 1/50\n",
            "1875/1875 [==============================] - 28s 8ms/step - loss: 0.4363 - accuracy: 0.8420\n",
            "Epoch 2/50\n",
            "1875/1875 [==============================] - 15s 8ms/step - loss: 0.2976 - accuracy: 0.8902\n",
            "Epoch 3/50\n",
            "1875/1875 [==============================] - 15s 8ms/step - loss: 0.2491 - accuracy: 0.9090\n",
            "Epoch 4/50\n",
            "1875/1875 [==============================] - 15s 8ms/step - loss: 0.2165 - accuracy: 0.9190\n",
            "Epoch 5/50\n",
            "1875/1875 [==============================] - 15s 8ms/step - loss: 0.1877 - accuracy: 0.9293\n",
            "Epoch 6/50\n",
            "1875/1875 [==============================] - 15s 8ms/step - loss: 0.1661 - accuracy: 0.9384\n",
            "Epoch 7/50\n",
            "1875/1875 [==============================] - 15s 8ms/step - loss: 0.1464 - accuracy: 0.9450\n",
            "Epoch 8/50\n",
            "1875/1875 [==============================] - 15s 8ms/step - loss: 0.1273 - accuracy: 0.9519\n",
            "Epoch 9/50\n",
            "1875/1875 [==============================] - 15s 8ms/step - loss: 0.1132 - accuracy: 0.9570\n",
            "Epoch 10/50\n",
            "1875/1875 [==============================] - 15s 8ms/step - loss: 0.0974 - accuracy: 0.9629\n",
            "Epoch 11/50\n",
            "1875/1875 [==============================] - 15s 8ms/step - loss: 0.0872 - accuracy: 0.9674\n",
            "Epoch 12/50\n",
            "1875/1875 [==============================] - 15s 8ms/step - loss: 0.0739 - accuracy: 0.9722\n",
            "Epoch 13/50\n",
            "1875/1875 [==============================] - 15s 8ms/step - loss: 0.0682 - accuracy: 0.9737\n",
            "Epoch 14/50\n",
            "1875/1875 [==============================] - 15s 8ms/step - loss: 0.0606 - accuracy: 0.9776\n",
            "Epoch 15/50\n",
            "1875/1875 [==============================] - 15s 8ms/step - loss: 0.0528 - accuracy: 0.9796\n",
            "Epoch 16/50\n",
            "1875/1875 [==============================] - 15s 8ms/step - loss: 0.0475 - accuracy: 0.9824\n",
            "Epoch 17/50\n",
            "1875/1875 [==============================] - 15s 8ms/step - loss: 0.0449 - accuracy: 0.9832\n",
            "Epoch 18/50\n",
            "1875/1875 [==============================] - 15s 8ms/step - loss: 0.0429 - accuracy: 0.9834\n",
            "Epoch 19/50\n",
            "1875/1875 [==============================] - 15s 8ms/step - loss: 0.0382 - accuracy: 0.9861\n",
            "Epoch 20/50\n",
            "1875/1875 [==============================] - 15s 8ms/step - loss: 0.0361 - accuracy: 0.9869\n",
            "Epoch 21/50\n",
            "1875/1875 [==============================] - 15s 8ms/step - loss: 0.0316 - accuracy: 0.9882\n",
            "Epoch 22/50\n",
            "1875/1875 [==============================] - 15s 8ms/step - loss: 0.0318 - accuracy: 0.9885\n",
            "Epoch 23/50\n",
            "1875/1875 [==============================] - 15s 8ms/step - loss: 0.0305 - accuracy: 0.9889\n",
            "Epoch 24/50\n",
            "1875/1875 [==============================] - 15s 8ms/step - loss: 0.0321 - accuracy: 0.9880\n",
            "Epoch 25/50\n",
            "1875/1875 [==============================] - 15s 8ms/step - loss: 0.0273 - accuracy: 0.9901\n",
            "Epoch 26/50\n",
            "1875/1875 [==============================] - 15s 8ms/step - loss: 0.0253 - accuracy: 0.9910\n",
            "Epoch 27/50\n",
            "1875/1875 [==============================] - 15s 8ms/step - loss: 0.0255 - accuracy: 0.9912\n",
            "Epoch 28/50\n",
            "1875/1875 [==============================] - 15s 8ms/step - loss: 0.0298 - accuracy: 0.9896\n",
            "Epoch 29/50\n",
            "1875/1875 [==============================] - 15s 8ms/step - loss: 0.0219 - accuracy: 0.9925\n",
            "Epoch 30/50\n",
            "1875/1875 [==============================] - 15s 8ms/step - loss: 0.0233 - accuracy: 0.9916\n",
            "Epoch 31/50\n",
            "1875/1875 [==============================] - 15s 8ms/step - loss: 0.0258 - accuracy: 0.9913\n",
            "Epoch 32/50\n",
            "1875/1875 [==============================] - 15s 8ms/step - loss: 0.0219 - accuracy: 0.9919\n",
            "Epoch 33/50\n",
            "1875/1875 [==============================] - 15s 8ms/step - loss: 0.0208 - accuracy: 0.9926\n",
            "Epoch 34/50\n",
            "1875/1875 [==============================] - 15s 8ms/step - loss: 0.0211 - accuracy: 0.9924\n",
            "Epoch 35/50\n",
            "1875/1875 [==============================] - 15s 8ms/step - loss: 0.0199 - accuracy: 0.9934\n",
            "Epoch 36/50\n",
            "1875/1875 [==============================] - 15s 8ms/step - loss: 0.0212 - accuracy: 0.9929\n",
            "Epoch 37/50\n",
            "1875/1875 [==============================] - 15s 8ms/step - loss: 0.0221 - accuracy: 0.9924\n",
            "Epoch 38/50\n",
            "1875/1875 [==============================] - 15s 8ms/step - loss: 0.0200 - accuracy: 0.9932\n",
            "Epoch 39/50\n",
            "1875/1875 [==============================] - 15s 8ms/step - loss: 0.0199 - accuracy: 0.9936\n",
            "Epoch 40/50\n",
            "1875/1875 [==============================] - 15s 8ms/step - loss: 0.0204 - accuracy: 0.9934\n",
            "Epoch 41/50\n",
            "1875/1875 [==============================] - 15s 8ms/step - loss: 0.0185 - accuracy: 0.9937\n",
            "Epoch 42/50\n",
            "1875/1875 [==============================] - 15s 8ms/step - loss: 0.0181 - accuracy: 0.9939\n",
            "Epoch 43/50\n",
            "1875/1875 [==============================] - 15s 8ms/step - loss: 0.0201 - accuracy: 0.9932\n",
            "Epoch 44/50\n",
            "1875/1875 [==============================] - 15s 8ms/step - loss: 0.0176 - accuracy: 0.9941\n",
            "Epoch 45/50\n",
            "1875/1875 [==============================] - 15s 8ms/step - loss: 0.0187 - accuracy: 0.9941\n",
            "Epoch 46/50\n",
            "1875/1875 [==============================] - 15s 8ms/step - loss: 0.0157 - accuracy: 0.9948\n",
            "Epoch 47/50\n",
            "1875/1875 [==============================] - 15s 8ms/step - loss: 0.0193 - accuracy: 0.9936\n",
            "Epoch 48/50\n",
            "1875/1875 [==============================] - 15s 8ms/step - loss: 0.0177 - accuracy: 0.9944\n",
            "Epoch 49/50\n",
            "1875/1875 [==============================] - 15s 8ms/step - loss: 0.0192 - accuracy: 0.9936\n",
            "Epoch 50/50\n",
            "1875/1875 [==============================] - 15s 8ms/step - loss: 0.0193 - accuracy: 0.9942\n"
          ]
        },
        {
          "output_type": "execute_result",
          "data": {
            "text/plain": [
              "<keras.callbacks.History at 0x7f6ea064b410>"
            ]
          },
          "metadata": {},
          "execution_count": 3
        }
      ]
    },
    {
      "cell_type": "code",
      "source": [
        "# wow the training performance is better than normal NN in chater 1"
      ],
      "metadata": {
        "id": "YTMi25Jvhi-H"
      },
      "execution_count": null,
      "outputs": []
    },
    {
      "cell_type": "code",
      "source": [
        "model.summary()"
      ],
      "metadata": {
        "colab": {
          "base_uri": "https://localhost:8080/"
        },
        "id": "468545DhgAAp",
        "outputId": "7835b35b-16dc-4b30-ea30-77876c8ae931"
      },
      "execution_count": 8,
      "outputs": [
        {
          "output_type": "stream",
          "name": "stdout",
          "text": [
            "Model: \"sequential\"\n",
            "_________________________________________________________________\n",
            " Layer (type)                Output Shape              Param #   \n",
            "=================================================================\n",
            " conv2d (Conv2D)             (None, 26, 26, 64)        640       \n",
            "                                                                 \n",
            " max_pooling2d (MaxPooling2D  (None, 13, 13, 64)       0         \n",
            " )                                                               \n",
            "                                                                 \n",
            " conv2d_1 (Conv2D)           (None, 11, 11, 64)        36928     \n",
            "                                                                 \n",
            " max_pooling2d_1 (MaxPooling  (None, 5, 5, 64)         0         \n",
            " 2D)                                                             \n",
            "                                                                 \n",
            " flatten (Flatten)           (None, 1600)              0         \n",
            "                                                                 \n",
            " dense (Dense)               (None, 128)               204928    \n",
            "                                                                 \n",
            " dense_1 (Dense)             (None, 10)                1290      \n",
            "                                                                 \n",
            "=================================================================\n",
            "Total params: 243,786\n",
            "Trainable params: 243,786\n",
            "Non-trainable params: 0\n",
            "_________________________________________________________________\n"
          ]
        }
      ]
    },
    {
      "cell_type": "code",
      "source": [
        "model.evaluate(test_images, test_labels)\n",
        "classification = model.predict(test_images)"
      ],
      "metadata": {
        "colab": {
          "base_uri": "https://localhost:8080/"
        },
        "id": "_qqAH-O_cOPV",
        "outputId": "d5e5e071-db4b-4589-88ef-261bdada13ce"
      },
      "execution_count": 4,
      "outputs": [
        {
          "output_type": "stream",
          "name": "stdout",
          "text": [
            "313/313 [==============================] - 2s 5ms/step - loss: 1.0225 - accuracy: 0.9054\n"
          ]
        }
      ]
    },
    {
      "cell_type": "code",
      "source": [
        "print(classification[0])\n",
        "print(test_labels[0])"
      ],
      "metadata": {
        "colab": {
          "base_uri": "https://localhost:8080/"
        },
        "id": "QkNSyrZ_cMxe",
        "outputId": "6dcc37e2-b684-4b0f-f5cb-1a6dacc69ecc"
      },
      "execution_count": 6,
      "outputs": [
        {
          "output_type": "stream",
          "name": "stdout",
          "text": [
            "[3.7992764e-33 2.1277728e-33 1.2814499e-25 1.1855484e-35 8.1708236e-32\n",
            " 7.9524294e-25 0.0000000e+00 9.7268531e-16 3.3348308e-30 1.0000000e+00]\n",
            "9\n"
          ]
        }
      ]
    },
    {
      "cell_type": "code",
      "source": [
        "import pandas as pd\n",
        "pred=[]\n",
        "for i in classification:\n",
        "  pred.append(np.argmax(i))\n",
        "df = pd.DataFrame(\n",
        "    {'True_label': test_labels.tolist(),\n",
        "     'Predict_label': pred\n",
        "    })"
      ],
      "metadata": {
        "id": "k5Qrj2gWgLZh"
      },
      "execution_count": 10,
      "outputs": []
    },
    {
      "cell_type": "code",
      "source": [
        "df.loc[df['True_label'] != df['Predict_label']] # see incorrect prediction rows"
      ],
      "metadata": {
        "colab": {
          "base_uri": "https://localhost:8080/",
          "height": 423
        },
        "id": "j4OtZy-ngOO6",
        "outputId": "ab9bc318-c9fe-4708-b475-42b45d7d2821"
      },
      "execution_count": 11,
      "outputs": [
        {
          "output_type": "execute_result",
          "data": {
            "text/html": [
              "\n",
              "  <div id=\"df-12d7d3a7-bb7c-47d6-a771-4637c80819aa\">\n",
              "    <div class=\"colab-df-container\">\n",
              "      <div>\n",
              "<style scoped>\n",
              "    .dataframe tbody tr th:only-of-type {\n",
              "        vertical-align: middle;\n",
              "    }\n",
              "\n",
              "    .dataframe tbody tr th {\n",
              "        vertical-align: top;\n",
              "    }\n",
              "\n",
              "    .dataframe thead th {\n",
              "        text-align: right;\n",
              "    }\n",
              "</style>\n",
              "<table border=\"1\" class=\"dataframe\">\n",
              "  <thead>\n",
              "    <tr style=\"text-align: right;\">\n",
              "      <th></th>\n",
              "      <th>True_label</th>\n",
              "      <th>Predict_label</th>\n",
              "    </tr>\n",
              "  </thead>\n",
              "  <tbody>\n",
              "    <tr>\n",
              "      <th>14</th>\n",
              "      <td>4</td>\n",
              "      <td>2</td>\n",
              "    </tr>\n",
              "    <tr>\n",
              "      <th>23</th>\n",
              "      <td>9</td>\n",
              "      <td>5</td>\n",
              "    </tr>\n",
              "    <tr>\n",
              "      <th>25</th>\n",
              "      <td>4</td>\n",
              "      <td>6</td>\n",
              "    </tr>\n",
              "    <tr>\n",
              "      <th>42</th>\n",
              "      <td>3</td>\n",
              "      <td>6</td>\n",
              "    </tr>\n",
              "    <tr>\n",
              "      <th>48</th>\n",
              "      <td>2</td>\n",
              "      <td>6</td>\n",
              "    </tr>\n",
              "    <tr>\n",
              "      <th>...</th>\n",
              "      <td>...</td>\n",
              "      <td>...</td>\n",
              "    </tr>\n",
              "    <tr>\n",
              "      <th>9955</th>\n",
              "      <td>6</td>\n",
              "      <td>0</td>\n",
              "    </tr>\n",
              "    <tr>\n",
              "      <th>9969</th>\n",
              "      <td>8</td>\n",
              "      <td>0</td>\n",
              "    </tr>\n",
              "    <tr>\n",
              "      <th>9977</th>\n",
              "      <td>6</td>\n",
              "      <td>0</td>\n",
              "    </tr>\n",
              "    <tr>\n",
              "      <th>9981</th>\n",
              "      <td>0</td>\n",
              "      <td>6</td>\n",
              "    </tr>\n",
              "    <tr>\n",
              "      <th>9991</th>\n",
              "      <td>6</td>\n",
              "      <td>2</td>\n",
              "    </tr>\n",
              "  </tbody>\n",
              "</table>\n",
              "<p>946 rows × 2 columns</p>\n",
              "</div>\n",
              "      <button class=\"colab-df-convert\" onclick=\"convertToInteractive('df-12d7d3a7-bb7c-47d6-a771-4637c80819aa')\"\n",
              "              title=\"Convert this dataframe to an interactive table.\"\n",
              "              style=\"display:none;\">\n",
              "        \n",
              "  <svg xmlns=\"http://www.w3.org/2000/svg\" height=\"24px\"viewBox=\"0 0 24 24\"\n",
              "       width=\"24px\">\n",
              "    <path d=\"M0 0h24v24H0V0z\" fill=\"none\"/>\n",
              "    <path d=\"M18.56 5.44l.94 2.06.94-2.06 2.06-.94-2.06-.94-.94-2.06-.94 2.06-2.06.94zm-11 1L8.5 8.5l.94-2.06 2.06-.94-2.06-.94L8.5 2.5l-.94 2.06-2.06.94zm10 10l.94 2.06.94-2.06 2.06-.94-2.06-.94-.94-2.06-.94 2.06-2.06.94z\"/><path d=\"M17.41 7.96l-1.37-1.37c-.4-.4-.92-.59-1.43-.59-.52 0-1.04.2-1.43.59L10.3 9.45l-7.72 7.72c-.78.78-.78 2.05 0 2.83L4 21.41c.39.39.9.59 1.41.59.51 0 1.02-.2 1.41-.59l7.78-7.78 2.81-2.81c.8-.78.8-2.07 0-2.86zM5.41 20L4 18.59l7.72-7.72 1.47 1.35L5.41 20z\"/>\n",
              "  </svg>\n",
              "      </button>\n",
              "      \n",
              "  <style>\n",
              "    .colab-df-container {\n",
              "      display:flex;\n",
              "      flex-wrap:wrap;\n",
              "      gap: 12px;\n",
              "    }\n",
              "\n",
              "    .colab-df-convert {\n",
              "      background-color: #E8F0FE;\n",
              "      border: none;\n",
              "      border-radius: 50%;\n",
              "      cursor: pointer;\n",
              "      display: none;\n",
              "      fill: #1967D2;\n",
              "      height: 32px;\n",
              "      padding: 0 0 0 0;\n",
              "      width: 32px;\n",
              "    }\n",
              "\n",
              "    .colab-df-convert:hover {\n",
              "      background-color: #E2EBFA;\n",
              "      box-shadow: 0px 1px 2px rgba(60, 64, 67, 0.3), 0px 1px 3px 1px rgba(60, 64, 67, 0.15);\n",
              "      fill: #174EA6;\n",
              "    }\n",
              "\n",
              "    [theme=dark] .colab-df-convert {\n",
              "      background-color: #3B4455;\n",
              "      fill: #D2E3FC;\n",
              "    }\n",
              "\n",
              "    [theme=dark] .colab-df-convert:hover {\n",
              "      background-color: #434B5C;\n",
              "      box-shadow: 0px 1px 3px 1px rgba(0, 0, 0, 0.15);\n",
              "      filter: drop-shadow(0px 1px 2px rgba(0, 0, 0, 0.3));\n",
              "      fill: #FFFFFF;\n",
              "    }\n",
              "  </style>\n",
              "\n",
              "      <script>\n",
              "        const buttonEl =\n",
              "          document.querySelector('#df-12d7d3a7-bb7c-47d6-a771-4637c80819aa button.colab-df-convert');\n",
              "        buttonEl.style.display =\n",
              "          google.colab.kernel.accessAllowed ? 'block' : 'none';\n",
              "\n",
              "        async function convertToInteractive(key) {\n",
              "          const element = document.querySelector('#df-12d7d3a7-bb7c-47d6-a771-4637c80819aa');\n",
              "          const dataTable =\n",
              "            await google.colab.kernel.invokeFunction('convertToInteractive',\n",
              "                                                     [key], {});\n",
              "          if (!dataTable) return;\n",
              "\n",
              "          const docLinkHtml = 'Like what you see? Visit the ' +\n",
              "            '<a target=\"_blank\" href=https://colab.research.google.com/notebooks/data_table.ipynb>data table notebook</a>'\n",
              "            + ' to learn more about interactive tables.';\n",
              "          element.innerHTML = '';\n",
              "          dataTable['output_type'] = 'display_data';\n",
              "          await google.colab.output.renderOutput(dataTable, element);\n",
              "          const docLink = document.createElement('div');\n",
              "          docLink.innerHTML = docLinkHtml;\n",
              "          element.appendChild(docLink);\n",
              "        }\n",
              "      </script>\n",
              "    </div>\n",
              "  </div>\n",
              "  "
            ],
            "text/plain": [
              "      True_label  Predict_label\n",
              "14             4              2\n",
              "23             9              5\n",
              "25             4              6\n",
              "42             3              6\n",
              "48             2              6\n",
              "...          ...            ...\n",
              "9955           6              0\n",
              "9969           8              0\n",
              "9977           6              0\n",
              "9981           0              6\n",
              "9991           6              2\n",
              "\n",
              "[946 rows x 2 columns]"
            ]
          },
          "metadata": {},
          "execution_count": 11
        }
      ]
    }
  ]
}